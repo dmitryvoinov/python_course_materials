{
  "nbformat": 4,
  "nbformat_minor": 0,
  "metadata": {
    "colab": {
      "provenance": []
    },
    "kernelspec": {
      "name": "python3",
      "display_name": "Python 3"
    },
    "language_info": {
      "name": "python"
    }
  },
  "cells": [
    {
      "cell_type": "markdown",
      "source": [
        "1\n",
        "\n",
        "Write a program to use the loop to find the factorial of a given number.\n",
        "\n",
        "The factorial (symbol: !) means to multiply all whole numbers from the chosen number down to 1.\n",
        "\n",
        "For example: calculate the factorial of 5\n",
        "\n",
        "5! = 5 × 4 × 3 × 2 × 1 = 120"
      ],
      "metadata": {
        "id": "gcrD_TnJVE7y"
      }
    },
    {
      "cell_type": "code",
      "execution_count": 2,
      "metadata": {
        "colab": {
          "base_uri": "https://localhost:8080/"
        },
        "id": "QgN3Nzu6UuS8",
        "outputId": "0aa7fe03-1d0b-4b39-f9fa-d2cf2bf2c3b5"
      },
      "outputs": [
        {
          "output_type": "stream",
          "name": "stdout",
          "text": [
            "Factorial of: 5!\n",
            "120\n"
          ]
        }
      ],
      "source": [
        "a = input('Factorial of: ')[:-1:]\n",
        "k = 1\n",
        "for i in range(int(a), 0, -1):\n",
        "    k*=i # k = k * i\n",
        "print(k)"
      ]
    },
    {
      "cell_type": "markdown",
      "source": [
        "2\n",
        "\n",
        "Write a program to calculate the sum of series up to n term. For example, if n = 5 the series will become 2 + 22 + 222 + 2222 + 22222 = 24690"
      ],
      "metadata": {
        "id": "aV7KmDWXVOwv"
      }
    },
    {
      "cell_type": "code",
      "source": [
        "a = int(input())\n",
        "k = 0\n",
        "for i in range(1, a+1):\n",
        "    k+=int('2'*i)\n",
        "print(k)"
      ],
      "metadata": {
        "colab": {
          "base_uri": "https://localhost:8080/"
        },
        "id": "ZlJYJhOaVSsU",
        "outputId": "af916202-bb7f-42c7-a8fb-be38225107e8"
      },
      "execution_count": 1,
      "outputs": [
        {
          "output_type": "stream",
          "name": "stdout",
          "text": [
            "5\n",
            "24690\n"
          ]
        }
      ]
    }
  ]
}