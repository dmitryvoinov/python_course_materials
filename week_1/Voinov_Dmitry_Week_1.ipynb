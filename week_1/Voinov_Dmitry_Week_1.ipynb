{
  "nbformat": 4,
  "nbformat_minor": 0,
  "metadata": {
    "colab": {
      "provenance": []
    },
    "kernelspec": {
      "name": "python3",
      "display_name": "Python 3"
    },
    "language_info": {
      "name": "python"
    }
  },
  "cells": [
    {
      "cell_type": "markdown",
      "source": [
        "1\n",
        "\n",
        "Сумма цифр трехзначного числа\n",
        "Дано трехзначное число 179. Найдите сумму его цифр.\n",
        "\n",
        "Формат вывода\n",
        "Выведите ответ на задачу.\n",
        "\n",
        "Ответ\n",
        "Вывод программы:\n",
        "17"
      ],
      "metadata": {
        "id": "wXkufBm5QReT"
      }
    },
    {
      "cell_type": "code",
      "execution_count": 8,
      "metadata": {
        "colab": {
          "base_uri": "https://localhost:8080/"
        },
        "id": "ULuEMRcyQJG4",
        "outputId": "981ae376-9625-4c86-dce9-d4575b6aede1"
      },
      "outputs": [
        {
          "output_type": "stream",
          "name": "stdout",
          "text": [
            "Введите трехзначное число: 123\n",
            "Сумма цифр числа: 6\n"
          ]
        }
      ],
      "source": [
        "n = input(\"Введите трёхзначное число: \")\n",
        "n = int(n)\n",
        " \n",
        "d1 = n % 10\n",
        "d2 = n % 100 // 10\n",
        "d3 = n // 100\n",
        " \n",
        "print(\"Сумма цифр числа:\", d1 + d2 + d3)"
      ]
    },
    {
      "cell_type": "markdown",
      "source": [
        "2\n",
        "\n",
        "Электронные часы\n",
        "Дано число N. С начала суток прошло N минут. Определите, сколько часов и минут будут показывать электронные часы в этот момент.\n",
        "\n",
        "Формат ввода\n",
        "\n",
        "Вводится число N — целое, положительное, не превышает 10⁷.\n",
        "\n",
        "Формат вывода\n",
        "\n",
        "Программа должна вывести два числа: количество часов (от 0 до 23) и количество минут (от 0 до 59).\n",
        "\n",
        "Учтите, что число N может быть больше, чем количество минут в сутках.\n",
        "\n",
        "Примеры\n",
        "Тест 1\n",
        "Входные данные:\n",
        "150\n",
        "\n",
        "Вывод программы:\n",
        "2 30"
      ],
      "metadata": {
        "id": "pgP1HZj3Rmfr"
      }
    },
    {
      "cell_type": "code",
      "source": [
        "n = int(input())\n",
        "n = n % (24*60)\n",
        "h = n // 60\n",
        "m = n % 60\n",
        "print(h,m)"
      ],
      "metadata": {
        "colab": {
          "base_uri": "https://localhost:8080/"
        },
        "id": "LPrm04_vRmCK",
        "outputId": "3e1d55b3-dae9-4ba6-dadd-950b3082b94f"
      },
      "execution_count": 9,
      "outputs": [
        {
          "output_type": "stream",
          "name": "stdout",
          "text": [
            "150\n",
            "2 30\n"
          ]
        }
      ]
    }
  ]
}