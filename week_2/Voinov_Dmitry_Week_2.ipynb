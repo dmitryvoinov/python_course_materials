{
  "nbformat": 4,
  "nbformat_minor": 0,
  "metadata": {
    "colab": {
      "provenance": []
    },
    "kernelspec": {
      "name": "python3",
      "display_name": "Python 3"
    },
    "language_info": {
      "name": "python"
    }
  },
  "cells": [
    {
      "cell_type": "markdown",
      "source": [
        "1\n",
        "\n",
        "Write a Python program to find those numbers which are divisible by 7 and multiple of 5, between 1500 and 2700 (both included)."
      ],
      "metadata": {
        "id": "Zq0KogCbNlwI"
      }
    },
    {
      "cell_type": "code",
      "execution_count": null,
      "metadata": {
        "id": "wFgsP7GjNd6m"
      },
      "outputs": [],
      "source": [
        "for i in range(1500, 2701):\n",
        "   if i % 7 == 0 and i % 5 == 0:\n",
        "       print(i)"
      ]
    },
    {
      "cell_type": "markdown",
      "source": [
        "2\n",
        "\n",
        "Write a Python program to construct the following pattern, using a nested for loop.\n",
        "In [6]:\n",
        "# *\n",
        "# * *\n",
        "# * * *\n",
        "# * * * *\n",
        "# * * * * *\n",
        "# * * * *\n",
        "# * * *\n",
        "# * *\n",
        "# *"
      ],
      "metadata": {
        "id": "mjqfr5FCNtcc"
      }
    },
    {
      "cell_type": "code",
      "source": [
        "for i in range(1):\n",
        "   for j in range(1, 6):\n",
        "       s = '# ' + ' '.join(\"*\" * j)\n",
        "       print(s)\n",
        "   for j in range(4, 0, -1):\n",
        "       s = '# ' + ' '.join(\"*\" * j)\n",
        "       print(s)"
      ],
      "metadata": {
        "id": "-GsumfSePEZo"
      },
      "execution_count": null,
      "outputs": []
    },
    {
      "cell_type": "markdown",
      "source": [
        "3\n",
        "\n",
        "Write a Python program that prints all the numbers from 0 to 6 except 3 and 6.\n",
        "Note : Use continue statement."
      ],
      "metadata": {
        "id": "oWrbjoYxPG_A"
      }
    },
    {
      "cell_type": "markdown",
      "source": [],
      "metadata": {
        "id": "CfSzfKCRPGjz"
      }
    },
    {
      "cell_type": "code",
      "source": [
        "for i in range(0, 7):\n",
        "   if i == 3 and i == 6:\n",
        "       continue\n",
        "   else:\n",
        "       print(i)"
      ],
      "metadata": {
        "id": "sJZbxMfVPK_1"
      },
      "execution_count": null,
      "outputs": []
    },
    {
      "cell_type": "markdown",
      "source": [
        "4\n",
        "\n",
        "Write a Python program to check a triangle is equilateral, isosceles or scalene.\n",
        "Note :\n",
        "An equilateral triangle is a triangle in which all three sides are equal.\n",
        "A scalene triangle is a triangle that has three unequal sides.\n",
        "An isosceles triangle is a triangle with (at least) two equal sides.\n",
        "Expected Output:\n",
        "Input lengths of the triangle sides:\n",
        "x: 6\n",
        "y: 8\n",
        "z: 12\n",
        "Scalene triangle"
      ],
      "metadata": {
        "id": "k4Xsq8P0PVW2"
      }
    },
    {
      "cell_type": "markdown",
      "source": [],
      "metadata": {
        "id": "jZdi1d62PKhp"
      }
    },
    {
      "cell_type": "code",
      "source": [
        "x = int(input('Input lengths of the triangle sides:\\nx: '))\n",
        "y = int(input('y: '))\n",
        "z = int(input('z: '))\n",
        " \n",
        "if x == y == z:\n",
        "   print('Equilateral triangle')\n",
        "elif x != y != z:\n",
        "   print('Scalene triangle')\n",
        "elif x == y or x == z or y == z:\n",
        "   print('Isosceles triangle')"
      ],
      "metadata": {
        "id": "SfgdwFCMPbXs"
      },
      "execution_count": null,
      "outputs": []
    },
    {
      "cell_type": "markdown",
      "source": [
        "5\n",
        "\n",
        "Write a Python program to get next day of a given date.\n",
        "Expected Output:\n",
        "Input a year: 2016\n",
        "Input a month [1-12]: 08\n",
        "Input a day [1-31]: 23\n",
        "The next date is [yyyy-mm-dd] 2016-8-24"
      ],
      "metadata": {
        "id": "_zaOzid_PeDD"
      }
    },
    {
      "cell_type": "code",
      "source": [
        "D28 = [2]\n",
        "D30 = [4, 6, 9, 11]\n",
        "D31 = [1, 3, 5, 7, 8, 10, 12]\n",
        "x = int(input('Input a year: '))\n",
        "if x % 4 == 0:\n",
        "   if x > 0:\n",
        "       y = int(input('Input a month [1-12]: '))\n",
        "       if y in D28:\n",
        "           z = int(input('Input a day [1-29]: '))\n",
        "           if z in range(30):\n",
        "               if z == 29:\n",
        "                   print(f'The next date is [yyyy-mm-dd] {x}-{y + 1}-1')\n",
        "               else:\n",
        "                   print(f'The next date is [yyyy-mm-dd] {x}-{y}-{z + 1}')\n",
        "           else:\n",
        "               print('False')\n",
        "       elif y in D30:\n",
        "           z = int(input('Input a day [1-30]: '))\n",
        "           if z in range(31):\n",
        "               if z == 30:\n",
        "                   print(f'The next date is [yyyy-mm-dd] {x}-{y + 1}-1')\n",
        "               else:\n",
        "                   print(f'The next date is [yyyy-mm-dd] {x}-{y}-{z + 1}')\n",
        "           else:\n",
        "               print('False')\n",
        "       elif y in D31:\n",
        "           z = int(input('Input a day [1-31]: '))\n",
        "           if z in range(32):\n",
        "               if z == 31 and y == 12:\n",
        "                   print(f'The next date is [yyyy-mm-dd] {x + 1}-1-1')\n",
        "               elif z == 31:\n",
        "                   print(f'The next date is [yyyy-mm-dd] {x}-{y + 1}-1')\n",
        "               else:\n",
        "                   print(f'The next date is [yyyy-mm-dd] {x}-{y}-{z + 1}')\n",
        "           else:\n",
        "               print('False')\n",
        "       else:\n",
        "           print('False')\n",
        "   else:\n",
        "       print('False')\n",
        "else:\n",
        "   if x > 0:\n",
        "       y = int(input('Input a month [1-12]: '))\n",
        "       if y in D28:\n",
        "           z = int(input('Input a day [1-28]: '))\n",
        "           if z in range(29):\n",
        "               if z == 28:\n",
        "                   print(f'The next date is [yyyy-mm-dd] {x}-{y + 1}-1')\n",
        "               else:\n",
        "                   print(f'The next date is [yyyy-mm-dd] {x}-{y}-{z + 1}')\n",
        "           else:\n",
        "               print('False')\n",
        "       elif y in D30:\n",
        "           z = int(input('Input a day [1-30]: '))\n",
        "           if z in range(31):\n",
        "               if z == 30:\n",
        "                   print(f'The next date is [yyyy-mm-dd] {x}-{y + 1}-1')\n",
        "               else:\n",
        "                   print(f'The next date is [yyyy-mm-dd] {x}-{y}-{z + 1}')\n",
        "           else:\n",
        "               print('False')\n",
        "       elif y in D31:\n",
        "           z = int(input('Input a day [1-31]: '))\n",
        "           if z in range(32):\n",
        "               if z == 31 and y == 12:\n",
        "                   print(f'The next date is [yyyy-mm-dd] {x + 1}-1-1')\n",
        "               elif z == 31:\n",
        "                   print(f'The next date is [yyyy-mm-dd] {x}-{y + 1}-1')\n",
        "               else:\n",
        "                   print(f'The next date is [yyyy-mm-dd] {x}-{y}-{z + 1}')\n",
        "           else:\n",
        "               print('False')\n",
        "       else:\n",
        "           print('False')\n",
        "   else:\n",
        "       print('False')"
      ],
      "metadata": {
        "id": "yY0MauQ-Pj42"
      },
      "execution_count": null,
      "outputs": []
    },
    {
      "cell_type": "markdown",
      "source": [
        "6\n",
        "\n",
        "Create a program that asks the user to enter their name and their age. Print out a message addressed to them that tells them the year that they will turn 100 years old.\n",
        "Output:\n",
        "Your name: Sem\n",
        "How old are you: 25\n",
        "Sem will be 100 years old in the year 2096"
      ],
      "metadata": {
        "id": "aRJ1F6J7PlY8"
      }
    },
    {
      "cell_type": "code",
      "source": [
        " x = input('Your name: ')\n",
        "y = int(input('How old are you: '))\n",
        "G = 2022\n",
        "if y > 0:\n",
        "   G0 = G - y + 100\n",
        "   print(f'{x} will be 100 years old in the year {G0}')\n",
        "else:\n",
        "   print('False')"
      ],
      "metadata": {
        "id": "n8ZvIDtPPzFz"
      },
      "execution_count": null,
      "outputs": []
    }
  ]
}