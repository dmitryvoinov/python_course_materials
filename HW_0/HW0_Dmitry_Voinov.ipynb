{
 "cells": [
  {
   "cell_type": "markdown",
   "id": "4aae3dfe",
   "metadata": {},
   "source": [
    "## Вывод (std out)"
   ]
  },
  {
   "cell_type": "code",
   "execution_count": 1,
   "id": "19d51336",
   "metadata": {},
   "outputs": [
    {
     "name": "stdout",
     "output_type": "stream",
     "text": [
      "1, 5, 8, 3\n",
      "1583\n"
     ]
    }
   ],
   "source": [
    "a = input().split(', ') \n",
    "s = ''\n",
    "x = ''\n",
    "k = 0\n",
    "\n",
    "while k<len(a): \n",
    "    s = s + a[k] \n",
    "    k+=1 \n",
    "for i in range(len(s)):\n",
    "    if s[i] != '\"':\n",
    "        x += s[i] \n",
    "print(x)"
   ]
  },
  {
   "cell_type": "markdown",
   "id": "c6a2735e",
   "metadata": {},
   "source": [
    "## Арифметика "
   ]
  },
  {
   "cell_type": "code",
   "execution_count": 5,
   "id": "bc23a479",
   "metadata": {},
   "outputs": [
    {
     "name": "stdout",
     "output_type": "stream",
     "text": [
      "2\n",
      "0,0\n",
      "1,1\n",
      "[[0, 0], [1, 1]]\n",
      "1.4142135623730951\n"
     ]
    }
   ],
   "source": [
    "from math import sqrt\n",
    " \n",
    "n = int(input())\n",
    "A = []\n",
    "B = []\n",
    "for i in range(n):\n",
    "    for el in input().split(','):\n",
    "        B += [int(el)]\n",
    "    A.append(B)\n",
    "    B = []\n",
    "print(A)\n",
    "x = sqrt((A[1][0] - A[0][0])**2 + (A[1][1] -  A[0][1])**2)\n",
    "print(x)"
   ]
  },
  {
   "cell_type": "markdown",
   "id": "6c5d4192",
   "metadata": {},
   "source": [
    "## Списки"
   ]
  },
  {
   "cell_type": "code",
   "execution_count": 7,
   "id": "ace65e2e",
   "metadata": {},
   "outputs": [
    {
     "name": "stdout",
     "output_type": "stream",
     "text": [
      "[0.1, 1.6, 0.3]\n",
      "2.0\n"
     ]
    }
   ],
   "source": [
    "color_list = [0.1,\"зеленый\", 1.6, \"белый\", 0.3, \"черный\", 7, \"2.0\"]\n",
    "A = []\n",
    " \n",
    "def isfloat(x):\n",
    "    if '.' in str(x) and str(x).replace('.', '').isdigit() and str(x) != x:\n",
    "        return float(x)\n",
    " \n",
    "for i in color_list:\n",
    "    if isfloat(i):\n",
    "        A.append(isfloat(i))\n",
    "print(A)\n",
    "print(sum(A))"
   ]
  },
  {
   "cell_type": "code",
   "execution_count": 8,
   "id": "f5efd6f8",
   "metadata": {},
   "outputs": [
    {
     "name": "stdout",
     "output_type": "stream",
     "text": [
      "красный\n",
      "черный\n"
     ]
    }
   ],
   "source": [
    "color_list = [\"красный\",\"зеленый\",\"белый\" ,\"черный\"]\n",
    " \n",
    "k = 0\n",
    "while k < len(color_list):\n",
    "   if k == 0:\n",
    "       print(color_list[k])\n",
    "   elif k == len(color_list) - 1:\n",
    "       print(color_list[k])\n",
    "   k += 1"
   ]
  },
  {
   "cell_type": "code",
   "execution_count": 9,
   "id": "0120e466",
   "metadata": {},
   "outputs": [
    {
     "name": "stdout",
     "output_type": "stream",
     "text": [
      "4\n",
      "1\n",
      "5\n",
      "Clear\n"
     ]
    }
   ],
   "source": [
    "F = input()\n",
    "x = int(input())\n",
    "A = []\n",
    "for i in range(x):\n",
    "   A.append(input())\n",
    "k = 0\n",
    " \n",
    "for i in A:\n",
    "   if str(i) == str(F):\n",
    "       print(\"Element \" + i + \" was found\")\n",
    "       k = 1\n",
    "       break\n",
    "if k == 0:\n",
    "   print(\"Clear\") "
   ]
  },
  {
   "cell_type": "code",
   "execution_count": 10,
   "id": "824424aa",
   "metadata": {},
   "outputs": [
    {
     "name": "stdout",
     "output_type": "stream",
     "text": [
      "9 caMii  /\\y4LLIii proger v 2022 roDy\n"
     ]
    }
   ],
   "source": [
    "A = [\"9\", \"caMii\", \" /\\y4LLIii\", \"proger\", \"v\", \"2022\", \"roDy\"]\n",
    " \n",
    "s = ''\n",
    "k = 0\n",
    "while k < len(A):\n",
    "   if k == len(A) - 1:\n",
    "       s += A[k]\n",
    "   else:\n",
    "       s += A[k] + ' '\n",
    "   k += 1\n",
    "print(s)"
   ]
  },
  {
   "cell_type": "code",
   "execution_count": 11,
   "id": "1c52c4b8",
   "metadata": {},
   "outputs": [
    {
     "name": "stdout",
     "output_type": "stream",
     "text": [
      "\"White\", \"Black\", \"Red\"\n",
      "\"Red\", \"Green\", \"White\n",
      "\"White\" \"Red\"\n",
      "\"Black\" \"Green\"\n",
      "\"Red\" \"White\n"
     ]
    }
   ],
   "source": [
    "color_list_1 = input().split(', ')\n",
    "color_list_2 = input().split(', ')\n",
    " \n",
    "for i in range(len(color_list_1)):\n",
    "   print(color_list_1[i], color_list_2[i])"
   ]
  },
  {
   "cell_type": "code",
   "execution_count": 16,
   "id": "9d59ec07",
   "metadata": {},
   "outputs": [
    {
     "name": "stdout",
     "output_type": "stream",
     "text": [
      "4\n",
      "a\n",
      "b\n",
      "c\n",
      "d\n",
      "['a', 'b', 'c', 'd']\n",
      "aaabbbbbbcccccccccdddddddddddd\n"
     ]
    }
   ],
   "source": [
    "x = int(input())\n",
    "a = []\n",
    "for i in range(x):\n",
    "   a.append(input())\n",
    "print(a)\n",
    "k = 0\n",
    "s = ''\n",
    "while (k < len(a)):\n",
    "   s += a[k] * ((k + 1)*3)\n",
    "   k += 1\n",
    "print(s)"
   ]
  },
  {
   "cell_type": "code",
   "execution_count": 17,
   "id": "bfd569fd",
   "metadata": {},
   "outputs": [
    {
     "name": "stdout",
     "output_type": "stream",
     "text": [
      "\n",
      " [1, 11111] \n",
      " [2.4, 1000.0] \n",
      " ['a', 'b', 'string', 'new', 'old']\n"
     ]
    }
   ],
   "source": [
    "integers = []\n",
    "floats = []\n",
    "strings = []\n",
    " \n",
    "sample = [[\"a\", \"b\", 1, 2.4], \"string\", [\"new\", 11111, 1000.0, \"old\"]]\n",
    "\n",
    "for i in range(len(sample)):\n",
    " \n",
    "   if isinstance(sample[i], list) == True:\n",
    " \n",
    "       for j in range(len(sample[i])):\n",
    " \n",
    "           if str(sample[i][j]) == sample[i][j]:\n",
    "               strings.append(sample[i][j])\n",
    "           elif '.' in str(sample[i][j]) and str(sample[i][j]).replace('.', '').isdigit():\n",
    "               floats.append(sample[i][j])\n",
    "           else:\n",
    "               integers.append(sample[i][j])\n",
    " \n",
    "   else:\n",
    " \n",
    "       if str(sample[i]) == sample[i]:\n",
    "               strings.append(sample[i])\n",
    "       elif '.' in str(sample[i]) and str(sample[i]).replace('.', '').isdigit():\n",
    "           floats.append(sample[i])\n",
    "       else:\n",
    "           integers.append(sample[i])\n",
    " \n",
    "print(\"\\n\", integers, \"\\n\", floats, \"\\n\", strings)"
   ]
  },
  {
   "cell_type": "markdown",
   "id": "4d785ec2",
   "metadata": {},
   "source": [
    "## Библиотеки "
   ]
  },
  {
   "cell_type": "code",
   "execution_count": 18,
   "id": "0937e5e0",
   "metadata": {},
   "outputs": [
    {
     "name": "stdout",
     "output_type": "stream",
     "text": [
      "Fri Nov 18 01:57:38 2022\n"
     ]
    }
   ],
   "source": [
    "import time\n",
    " \n",
    "seconds = time.time() \n",
    "local_time = time.ctime(seconds)\n",
    "print(local_time)"
   ]
  },
  {
   "cell_type": "code",
   "execution_count": null,
   "id": "1ecb9bb4",
   "metadata": {},
   "outputs": [],
   "source": []
  }
 ],
 "metadata": {
  "kernelspec": {
   "display_name": "Python 3 (ipykernel)",
   "language": "python",
   "name": "python3"
  },
  "language_info": {
   "codemirror_mode": {
    "name": "ipython",
    "version": 3
   },
   "file_extension": ".py",
   "mimetype": "text/x-python",
   "name": "python",
   "nbconvert_exporter": "python",
   "pygments_lexer": "ipython3",
   "version": "3.9.13"
  }
 },
 "nbformat": 4,
 "nbformat_minor": 5
}
