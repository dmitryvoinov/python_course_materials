{
  "nbformat": 4,
  "nbformat_minor": 0,
  "metadata": {
    "colab": {
      "provenance": []
    },
    "kernelspec": {
      "name": "python3",
      "display_name": "Python 3"
    },
    "language_info": {
      "name": "python"
    }
  },
  "cells": [
    {
      "cell_type": "code",
      "execution_count": null,
      "metadata": {
        "id": "bJIaEaAff2px"
      },
      "outputs": [],
      "source": [
        "import os.path"
      ]
    },
    {
      "cell_type": "code",
      "source": [
        "!wget https://gist.githubusercontent.com/NooblyRand0m/404c8a252f89862654c3fa6bba3d8bc3/raw/26c97aa3876ef33f3509e3b1209402c5c138f06c/coursera_week3_cars.csv\n"
      ],
      "metadata": {
        "colab": {
          "base_uri": "https://localhost:8080/"
        },
        "id": "TIzzpC98f6pR",
        "outputId": "b8e11e67-446e-4119-dcbd-a6d8893e28ec"
      },
      "execution_count": null,
      "outputs": [
        {
          "output_type": "stream",
          "name": "stdout",
          "text": [
            "--2022-12-24 09:38:40--  https://gist.githubusercontent.com/NooblyRand0m/404c8a252f89862654c3fa6bba3d8bc3/raw/26c97aa3876ef33f3509e3b1209402c5c138f06c/coursera_week3_cars.csv\n",
            "Resolving gist.githubusercontent.com (gist.githubusercontent.com)... 185.199.110.133, 185.199.108.133, 185.199.111.133, ...\n",
            "Connecting to gist.githubusercontent.com (gist.githubusercontent.com)|185.199.110.133|:443... connected.\n",
            "HTTP request sent, awaiting response... 200 OK\n",
            "Length: 287 [text/plain]\n",
            "Saving to: ‘coursera_week3_cars.csv’\n",
            "\n",
            "\rcoursera_week3_cars   0%[                    ]       0  --.-KB/s               \rcoursera_week3_cars 100%[===================>]     287  --.-KB/s    in 0s      \n",
            "\n",
            "2022-12-24 09:38:40 (10.1 MB/s) - ‘coursera_week3_cars.csv’ saved [287/287]\n",
            "\n"
          ]
        }
      ]
    },
    {
      "cell_type": "code",
      "source": [
        "!head coursera_week3_cars.csv"
      ],
      "metadata": {
        "colab": {
          "base_uri": "https://localhost:8080/"
        },
        "id": "WsoR2tJLf9J7",
        "outputId": "4ca0c372-05ba-45af-d674-3bac63a7b8a8"
      },
      "execution_count": null,
      "outputs": [
        {
          "output_type": "stream",
          "name": "stdout",
          "text": [
            "car_type;brand;passenger_seats_count;photo_file_name;body_whl;carrying;extra\n",
            "car;Nissan xTtrail;4;f1.jpeg;;2.5;\n",
            "truck;Man;;f2.png;8x3x2.5;20;\n",
            "truck;Man;;f2.png;;20;\n",
            "car;Mazda 6;4;f3.jpeg;;2.5;\n",
            ";;;\n",
            "spec_machine;Hitachi;;f4;;1.2;Легкая техника для уборки снега\n",
            "\n"
          ]
        }
      ]
    },
    {
      "cell_type": "code",
      "source": [
        "import csv\n",
        "csv_filename = 'coursera_week3_cars.csv'\n",
        "\n",
        "with open(csv_filename) as csv_fd:\n",
        "    reader = csv.reader(csv_fd, delimiter=';')\n",
        "    next(reader)  # пропускаем заголовок\n",
        "    for row in reader:\n",
        "        print(row)"
      ],
      "metadata": {
        "colab": {
          "base_uri": "https://localhost:8080/"
        },
        "id": "EBWbh1avgA8I",
        "outputId": "c1cbab76-1828-4723-8491-110af552b936"
      },
      "execution_count": null,
      "outputs": [
        {
          "output_type": "stream",
          "name": "stdout",
          "text": [
            "['car', 'Nissan xTtrail', '4', 'f1.jpeg', '', '2.5', '']\n",
            "['truck', 'Man', '', 'f2.png', '8x3x2.5', '20', '']\n",
            "['truck', 'Man', '', 'f2.png', '', '20', '']\n",
            "['car', 'Mazda 6', '4', 'f3.jpeg', '', '2.5', '']\n",
            "['', '', '', '']\n",
            "['spec_machine', 'Hitachi', '', 'f4', '', '1.2', 'Легкая техника для уборки снега']\n",
            "[]\n"
          ]
        }
      ]
    },
    {
      "cell_type": "code",
      "source": [
        "class CarBase: \n",
        "    def __init__(self, brand, photo_file_name, carrying): \n",
        "        try:\n",
        "          if isbrand(brand) == True:\n",
        "            self.brand = brand \n",
        "          else:\n",
        "            print('Error brand')\n",
        "        except ValueError:\n",
        "          print('Brand constructor: brand must be an str value')\n",
        "        try:\n",
        "          if isphoto(photo_file_name) == True:\n",
        "            self.photo_file_name = photo_file_name\n",
        "          else:\n",
        "            print('Error photo_file_name')\n",
        "        except ValueError:\n",
        "          print('Photo_file_name constructor: photo_file_name must be an str value')\n",
        "        try:\n",
        "          if iscarrying(carrying) == True:\n",
        "            self.carrying = carrying\n",
        "          else:\n",
        "            print('Error carrying')\n",
        "        except ValueError:\n",
        "          print('Carrying constructor: carrying must be an str value')\n",
        "\n",
        "    def get_photo_file_ext(self):\n",
        "        return os.path.splitext(self.photo_file_name)[1]\n",
        "\n",
        "\n",
        "class Car(CarBase):\n",
        "    def __init__(self, brand, passenger_seats_count, photo_file_name, carrying):\n",
        "        super().__init__(brand, photo_file_name, carrying)\n",
        "        self.car_type = 'car'\n",
        "        try:\n",
        "          if ispessenger(passenger_seats_count) == True:\n",
        "            self.passenger_seats_count = passenger_seats_count\n",
        "          else:\n",
        "            print('Error passenger_seats_count')\n",
        "        except ValueError:\n",
        "          print('Passenger_seats_count constructor: passenger_seats_count must be an str value')\n",
        "        \n",
        "\n",
        "\n",
        "\n",
        "class Truck(CarBase):\n",
        "    def __init__(self, brand, photo_file_name, body_whl, carrying):\n",
        "        super().__init__(brand, photo_file_name, carrying)\n",
        "        self.car_type = 'truck'\n",
        "        try:\n",
        "          if iswhl(body_whl) == True:\n",
        "            self.body_whl = body_whl\n",
        "            if self.body_whl == '':\n",
        "              self.body_length = '0'\n",
        "              self.body_width = '0'\n",
        "              self.body_height = '0'\n",
        "            else:\n",
        "              A = (self.body_whl).split('x')\n",
        "              self.body_length = float(A[0])\n",
        "              self.body_width = float(A[1])\n",
        "              self.body_height = float(A[2])\n",
        "          else:\n",
        "            print('Error body_whl')\n",
        "        except ValueError:\n",
        "          print('Body_whl constructor: body_whl must be an str value')\n",
        "    def get_body_volume(self):\n",
        "        return self.body_length * self.body_width * self.body_height\n",
        "\n",
        "\n",
        "class SpecMachine(CarBase):\n",
        "    def __init__(self, brand, photo_file_name, carrying, extra):\n",
        "        super().__init__(brand, photo_file_name, carrying)\n",
        "        super().get_photo_file_ext()\n",
        "        self.car_type = 'spec_machine'\n",
        "        try:\n",
        "          self.extra = extra\n",
        "        except ValueError:\n",
        "          print('Extra constructor: extra must be an str value')\n",
        "\n",
        "    \n",
        "def isbrand(x):\n",
        "    A = \"!?\\|/<>:;'@#$%^&*(){}§±_+=\"\n",
        "    k=0\n",
        "    for i in A:\n",
        "      if i not in x:\n",
        "        k+=1\n",
        "    if k == len(A):\n",
        "      return True \n",
        "    else:\n",
        "      return False\n",
        "\n",
        "def ispessenger(x):\n",
        "  return x.isdigit()\n",
        "\n",
        "def isphoto(x):\n",
        "  if os.path.splitext(x)[1] == '.jpeg' or os.path.splitext(x)[1] == '.jpg' or os.path.splitext(x)[1] == '.png':\n",
        "    return True\n",
        "  else:\n",
        "    return False\n",
        "\n",
        "\n",
        "def iswhl(x):\n",
        "  if x.count('x') == 2:\n",
        "    A = x.split('x')\n",
        "    try:\n",
        "      float(A[0])\n",
        "      float(A[1])\n",
        "      float(A[2])\n",
        "      return True\n",
        "    except ValueError:\n",
        "      return False\n",
        "\n",
        "def iscarrying(x):\n",
        "  try:\n",
        "    float(x)\n",
        "    return True\n",
        "  except ValueError:\n",
        "    return False\n",
        "\n",
        "\n",
        "def get_car_list(csv_filename):\n",
        "    car_list = []\n",
        "    with open(csv_filename) as csv_fd:\n",
        "        reader = csv.reader(csv_fd, delimiter=';')\n",
        "        next(reader)  # пропускаем заголовок\n",
        "        for row in reader:\n",
        "            k = 0\n",
        "            for i in row:\n",
        "                if i == '':\n",
        "                    k+=1\n",
        "            if k != len(row):\n",
        "                a = row[1] # brand\n",
        "                b = row[2] # pass count\n",
        "                c = row[3] # photo\n",
        "                d = row[4] # whl\n",
        "                e = row[5] # carrying\n",
        "                f = row[6] # extra\n",
        "                if row[0] == 'car':\n",
        "                    ccar = Car(a,b,c,e)\n",
        "                    car_list.append(ccar)\n",
        "                elif row[0] == 'truck':\n",
        "                    ttruck = Truck(a,c,d,e)\n",
        "                    car_list.append(ttruck)\n",
        "                elif row[0] == 'spec_machine':\n",
        "                    sspec_machine = SpecMachine(a,c,e,f)\n",
        "                    car_list.append(sspec_machine)\n",
        "              \n",
        "\n",
        "                \n",
        "    return car_list\n"
      ],
      "metadata": {
        "id": "ZfkYvfr9gKW_"
      },
      "execution_count": null,
      "outputs": []
    },
    {
      "cell_type": "code",
      "source": [
        "car = Car('Bugatti Veyron', '2', 'bugatti.png', '0.312') \n",
        "print(car.car_type, car.brand, car.photo_file_name, car.carrying, car.passenger_seats_count, sep='\\n')"
      ],
      "metadata": {
        "colab": {
          "base_uri": "https://localhost:8080/"
        },
        "id": "hv3hMkQGgkFW",
        "outputId": "c1fdba47-0565-489c-eba3-9672e2596b0e"
      },
      "execution_count": null,
      "outputs": [
        {
          "output_type": "stream",
          "name": "stdout",
          "text": [
            "car\n",
            "Bugatti Veyron\n",
            "bugatti.png\n",
            "0.312\n",
            "2\n"
          ]
        }
      ]
    },
    {
      "cell_type": "code",
      "source": [
        "truck = Truck('Nissan', 'nissan.jpeg', '3.92x2.09x1.87', '1.5')\n",
        "print(truck.car_type, truck.brand, truck.photo_file_name, truck.body_length, truck.body_width, truck.body_height, sep='\\n')\n"
      ],
      "metadata": {
        "colab": {
          "base_uri": "https://localhost:8080/"
        },
        "id": "yFkfe0B8gsl3",
        "outputId": "58e766c1-2a09-4f08-da04-cfc0688af0db"
      },
      "execution_count": null,
      "outputs": [
        {
          "output_type": "stream",
          "name": "stdout",
          "text": [
            "truck\n",
            "Nissan\n",
            "nissan.jpeg\n",
            "3.92\n",
            "2.09\n",
            "1.87\n"
          ]
        }
      ]
    },
    {
      "cell_type": "code",
      "source": [
        "spec_machine = SpecMachine('Komatsu-D355', 'd355.jpg', '93', 'pipelayer specs')\n",
        "print(spec_machine.car_type, spec_machine.brand, spec_machine.carrying, spec_machine.photo_file_name, spec_machine.extra, sep='\\n')\n"
      ],
      "metadata": {
        "colab": {
          "base_uri": "https://localhost:8080/"
        },
        "id": "saIK9MURgv-i",
        "outputId": "78c9c4a9-1139-48c0-f94d-eca6ad8acf9d"
      },
      "execution_count": null,
      "outputs": [
        {
          "output_type": "stream",
          "name": "stdout",
          "text": [
            "spec_machine\n",
            "Komatsu-D355\n",
            "93\n",
            "d355.jpg\n",
            "pipelayer specs\n"
          ]
        }
      ]
    },
    {
      "cell_type": "code",
      "source": [
        "spec_machine.get_photo_file_ext()"
      ],
      "metadata": {
        "colab": {
          "base_uri": "https://localhost:8080/",
          "height": 35
        },
        "id": "8KJzPSGQhIdV",
        "outputId": "e778717b-bdd3-4dca-99a9-10d1c70e9d6e"
      },
      "execution_count": null,
      "outputs": [
        {
          "output_type": "execute_result",
          "data": {
            "text/plain": [
              "'.jpg'"
            ],
            "application/vnd.google.colaboratory.intrinsic+json": {
              "type": "string"
            }
          },
          "metadata": {},
          "execution_count": 72
        }
      ]
    },
    {
      "cell_type": "code",
      "source": [
        "cars = get_car_list('coursera_week3_cars.csv') #из-за отсутствия параметра body_whl во второй строчке truck и отсутствия расширения параметра f4 у Hitachi, проверка выдает ошибку\n",
        "len(cars)"
      ],
      "metadata": {
        "colab": {
          "base_uri": "https://localhost:8080/",
          "height": 371
        },
        "id": "keccgkkmg0o-",
        "outputId": "4a13673c-dbd1-486a-f265-492b52bb56f7"
      },
      "execution_count": null,
      "outputs": [
        {
          "output_type": "stream",
          "name": "stdout",
          "text": [
            "Error body_whl\n",
            "Error photo_file_name\n"
          ]
        },
        {
          "output_type": "error",
          "ename": "AttributeError",
          "evalue": "ignored",
          "traceback": [
            "\u001b[0;31m---------------------------------------------------------------------------\u001b[0m",
            "\u001b[0;31mAttributeError\u001b[0m                            Traceback (most recent call last)",
            "\u001b[0;32m<ipython-input-73-2f29e9ad25ed>\u001b[0m in \u001b[0;36m<module>\u001b[0;34m\u001b[0m\n\u001b[0;32m----> 1\u001b[0;31m \u001b[0mcars\u001b[0m \u001b[0;34m=\u001b[0m \u001b[0mget_car_list\u001b[0m\u001b[0;34m(\u001b[0m\u001b[0;34m'coursera_week3_cars.csv'\u001b[0m\u001b[0;34m)\u001b[0m\u001b[0;34m\u001b[0m\u001b[0;34m\u001b[0m\u001b[0m\n\u001b[0m\u001b[1;32m      2\u001b[0m \u001b[0mlen\u001b[0m\u001b[0;34m(\u001b[0m\u001b[0mcars\u001b[0m\u001b[0;34m)\u001b[0m\u001b[0;34m\u001b[0m\u001b[0;34m\u001b[0m\u001b[0m\n",
            "\u001b[0;32m<ipython-input-68-948fc78b8201>\u001b[0m in \u001b[0;36mget_car_list\u001b[0;34m(csv_filename)\u001b[0m\n\u001b[1;32m    141\u001b[0m                     \u001b[0mcar_list\u001b[0m\u001b[0;34m.\u001b[0m\u001b[0mappend\u001b[0m\u001b[0;34m(\u001b[0m\u001b[0mttruck\u001b[0m\u001b[0;34m)\u001b[0m\u001b[0;34m\u001b[0m\u001b[0;34m\u001b[0m\u001b[0m\n\u001b[1;32m    142\u001b[0m                 \u001b[0;32melif\u001b[0m \u001b[0mrow\u001b[0m\u001b[0;34m[\u001b[0m\u001b[0;36m0\u001b[0m\u001b[0;34m]\u001b[0m \u001b[0;34m==\u001b[0m \u001b[0;34m'spec_machine'\u001b[0m\u001b[0;34m:\u001b[0m\u001b[0;34m\u001b[0m\u001b[0;34m\u001b[0m\u001b[0m\n\u001b[0;32m--> 143\u001b[0;31m                     \u001b[0msspec_machine\u001b[0m \u001b[0;34m=\u001b[0m \u001b[0mSpecMachine\u001b[0m\u001b[0;34m(\u001b[0m\u001b[0ma\u001b[0m\u001b[0;34m,\u001b[0m\u001b[0mc\u001b[0m\u001b[0;34m,\u001b[0m\u001b[0me\u001b[0m\u001b[0;34m,\u001b[0m\u001b[0mf\u001b[0m\u001b[0;34m)\u001b[0m\u001b[0;34m\u001b[0m\u001b[0;34m\u001b[0m\u001b[0m\n\u001b[0m\u001b[1;32m    144\u001b[0m                     \u001b[0mcar_list\u001b[0m\u001b[0;34m.\u001b[0m\u001b[0mappend\u001b[0m\u001b[0;34m(\u001b[0m\u001b[0msspec_machine\u001b[0m\u001b[0;34m)\u001b[0m\u001b[0;34m\u001b[0m\u001b[0;34m\u001b[0m\u001b[0m\n\u001b[1;32m    145\u001b[0m \u001b[0;34m\u001b[0m\u001b[0m\n",
            "\u001b[0;32m<ipython-input-68-948fc78b8201>\u001b[0m in \u001b[0;36m__init__\u001b[0;34m(self, brand, photo_file_name, carrying, extra)\u001b[0m\n\u001b[1;32m     69\u001b[0m     \u001b[0;32mdef\u001b[0m \u001b[0m__init__\u001b[0m\u001b[0;34m(\u001b[0m\u001b[0mself\u001b[0m\u001b[0;34m,\u001b[0m \u001b[0mbrand\u001b[0m\u001b[0;34m,\u001b[0m \u001b[0mphoto_file_name\u001b[0m\u001b[0;34m,\u001b[0m \u001b[0mcarrying\u001b[0m\u001b[0;34m,\u001b[0m \u001b[0mextra\u001b[0m\u001b[0;34m)\u001b[0m\u001b[0;34m:\u001b[0m\u001b[0;34m\u001b[0m\u001b[0;34m\u001b[0m\u001b[0m\n\u001b[1;32m     70\u001b[0m         \u001b[0msuper\u001b[0m\u001b[0;34m(\u001b[0m\u001b[0;34m)\u001b[0m\u001b[0;34m.\u001b[0m\u001b[0m__init__\u001b[0m\u001b[0;34m(\u001b[0m\u001b[0mbrand\u001b[0m\u001b[0;34m,\u001b[0m \u001b[0mphoto_file_name\u001b[0m\u001b[0;34m,\u001b[0m \u001b[0mcarrying\u001b[0m\u001b[0;34m)\u001b[0m\u001b[0;34m\u001b[0m\u001b[0;34m\u001b[0m\u001b[0m\n\u001b[0;32m---> 71\u001b[0;31m         \u001b[0msuper\u001b[0m\u001b[0;34m(\u001b[0m\u001b[0;34m)\u001b[0m\u001b[0;34m.\u001b[0m\u001b[0mget_photo_file_ext\u001b[0m\u001b[0;34m(\u001b[0m\u001b[0;34m)\u001b[0m\u001b[0;34m\u001b[0m\u001b[0;34m\u001b[0m\u001b[0m\n\u001b[0m\u001b[1;32m     72\u001b[0m         \u001b[0mself\u001b[0m\u001b[0;34m.\u001b[0m\u001b[0mcar_type\u001b[0m \u001b[0;34m=\u001b[0m \u001b[0;34m'spec_machine'\u001b[0m\u001b[0;34m\u001b[0m\u001b[0;34m\u001b[0m\u001b[0m\n\u001b[1;32m     73\u001b[0m         \u001b[0;32mtry\u001b[0m\u001b[0;34m:\u001b[0m\u001b[0;34m\u001b[0m\u001b[0;34m\u001b[0m\u001b[0m\n",
            "\u001b[0;32m<ipython-input-68-948fc78b8201>\u001b[0m in \u001b[0;36mget_photo_file_ext\u001b[0;34m(self)\u001b[0m\n\u001b[1;32m     24\u001b[0m \u001b[0;34m\u001b[0m\u001b[0m\n\u001b[1;32m     25\u001b[0m     \u001b[0;32mdef\u001b[0m \u001b[0mget_photo_file_ext\u001b[0m\u001b[0;34m(\u001b[0m\u001b[0mself\u001b[0m\u001b[0;34m)\u001b[0m\u001b[0;34m:\u001b[0m\u001b[0;34m\u001b[0m\u001b[0;34m\u001b[0m\u001b[0m\n\u001b[0;32m---> 26\u001b[0;31m         \u001b[0;32mreturn\u001b[0m \u001b[0mos\u001b[0m\u001b[0;34m.\u001b[0m\u001b[0mpath\u001b[0m\u001b[0;34m.\u001b[0m\u001b[0msplitext\u001b[0m\u001b[0;34m(\u001b[0m\u001b[0mself\u001b[0m\u001b[0;34m.\u001b[0m\u001b[0mphoto_file_name\u001b[0m\u001b[0;34m)\u001b[0m\u001b[0;34m[\u001b[0m\u001b[0;36m1\u001b[0m\u001b[0;34m]\u001b[0m\u001b[0;34m\u001b[0m\u001b[0;34m\u001b[0m\u001b[0m\n\u001b[0m\u001b[1;32m     27\u001b[0m \u001b[0;34m\u001b[0m\u001b[0m\n\u001b[1;32m     28\u001b[0m \u001b[0;34m\u001b[0m\u001b[0m\n",
            "\u001b[0;31mAttributeError\u001b[0m: 'SpecMachine' object has no attribute 'photo_file_name'"
          ]
        }
      ]
    },
    {
      "cell_type": "code",
      "source": [
        "cars[0].passenger_seats_count"
      ],
      "metadata": {
        "colab": {
          "base_uri": "https://localhost:8080/",
          "height": 35
        },
        "id": "Jv7kHHl8hGSS",
        "outputId": "eae91121-9210-4486-cdfe-b76a9bdb94a8"
      },
      "execution_count": null,
      "outputs": [
        {
          "output_type": "execute_result",
          "data": {
            "text/plain": [
              "'4'"
            ],
            "application/vnd.google.colaboratory.intrinsic+json": {
              "type": "string"
            }
          },
          "metadata": {},
          "execution_count": 15
        }
      ]
    },
    {
      "cell_type": "code",
      "source": [
        "cars[1].get_body_volume()"
      ],
      "metadata": {
        "colab": {
          "base_uri": "https://localhost:8080/"
        },
        "id": "FGaqGUc0hEKn",
        "outputId": "1ef0dcc5-cb52-4f6a-cdf1-ea0998a8decd"
      },
      "execution_count": null,
      "outputs": [
        {
          "output_type": "execute_result",
          "data": {
            "text/plain": [
              "60.0"
            ]
          },
          "metadata": {},
          "execution_count": 25
        }
      ]
    },
    {
      "cell_type": "code",
      "source": [],
      "metadata": {
        "id": "1cPxGLZ5rYDB"
      },
      "execution_count": null,
      "outputs": []
    }
  ]
}