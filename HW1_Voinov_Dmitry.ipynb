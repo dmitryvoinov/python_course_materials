{
 "cells": [
  {
   "cell_type": "markdown",
   "id": "ef43214b",
   "metadata": {},
   "source": [
    "# 0. Наибольший общий делитель - 1 балл\n",
    "Напишите функцию, которая на вход принимает два целых числа, а на выходе отдает их наибольших общий делитель. \n",
    "\n",
    "Пример\n",
    "\n",
    "Ввод \n",
    "\n",
    "`lcd(10,2)`\n",
    "\n",
    "Вывод\n",
    "\n",
    "`2`\n",
    "\n",
    "Пример\n",
    "\n",
    "Ввод \n",
    "\n",
    "`lcd(10,25)`\n",
    "\n",
    "Вывод\n",
    "\n",
    "`5`"
   ]
  },
  {
   "cell_type": "code",
   "execution_count": 6,
   "id": "d227561c",
   "metadata": {},
   "outputs": [
    {
     "name": "stdout",
     "output_type": "stream",
     "text": [
      "10\n",
      "25\n",
      "5\n"
     ]
    }
   ],
   "source": [
    "a = int(input())\n",
    "b = int(input())\n",
    " \n",
    "def euclid(x, y):\n",
    "   while x != y:\n",
    "       if x > y:\n",
    "           x = x - y\n",
    "       else:\n",
    "           y = y - x\n",
    "   return x\n",
    " \n",
    "print(euclid(a, b))\n"
   ]
  },
  {
   "cell_type": "markdown",
   "id": "777171f3",
   "metadata": {},
   "source": [
    "# 1. Задачка про перевод из `camel_case`'a в `snake_case` - 1.5 балла\n",
    " Напишите функцию, которая на вход принимает строку, записанную в `CamelCase`, а переводит ее в `snake_case`.\n",
    " Подсказка: идите по строке циклом, обрабатывайте каждый символ, если символ заглавный, к обработанным ранее добавляйте нижнее подчеркивание и нынешний переводите в `lower case` \n",
    " \n",
    " Пример:\n",
    "\n",
    "**Вход**: `'camelCaseVar'`\n",
    "\n",
    "**Выход**: `'camel_сase_var'`"
   ]
  },
  {
   "cell_type": "code",
   "execution_count": 3,
   "id": "5e4c1ced",
   "metadata": {},
   "outputs": [
    {
     "name": "stdout",
     "output_type": "stream",
     "text": [
      "camelCaseVar\n",
      "camel_case_var\n"
     ]
    }
   ],
   "source": [
    "s = input()\n",
    " \n",
    " \n",
    "def snake_case(x):\n",
    "   s1 = ''\n",
    "   for i in range(len(x)):\n",
    "       if x[i].isupper():\n",
    "           s1 += '_' + x[i].lower()\n",
    "       else:\n",
    "           s1 += x[i].lower()\n",
    "   return s1\n",
    " \n",
    " \n",
    "print(snake_case(s))"
   ]
  },
  {
   "cell_type": "markdown",
   "id": "929847a2",
   "metadata": {},
   "source": [
    "# 2. Про Поросёнка Петра - 2 балла\n",
    "На плоскости в точке `(0,0)` стоит Поросёнок Пётр. Он умеет ходить налево, направо, вверх и вниз. Расстояние его прохода в какую-либо сторону измеряется в шагах. Когда он идет вправо, его первая координата увеличивается, когда влево - уменьшается. Когда он идет вверх, его вторая координата увеличивается, а когда вниз - уменьшается.\n",
    "С клавиатуры считывается число `N` - число ходов, которые сделает Пётр. После чего на каждом шаге спрашивается, сколько шагов и в какую сторону за этот ход Пётр сделает. Так происходит, пока Пётр не осуществит все N ходов.\n",
    "Программа должна вывести, сколько шагов Пётр должен был бы сделать, чтобы кратчайшим путем прибыть из свое начальной точки `(0,0)` в свою конечную точку. \n",
    "\n",
    "Напоминание: Пётр умеет ходить только вверх-вниз, и влево-вправо, но не по диагонали.\n",
    "\n",
    "Пример ввода:\n",
    "\n",
    "Введите N: `3`\n",
    "\n",
    "Ход 1: `Вверх 1`\n",
    "\n",
    "Ход 2: `Вниз 1`\n",
    "\n",
    "Ход 3: `Вверх 1`\n",
    "\n",
    "Пример вывода:\n",
    "`Пётр находится на расстоянии 1 от (0,0)`"
   ]
  },
  {
   "cell_type": "code",
   "execution_count": 10,
   "id": "b3231431",
   "metadata": {},
   "outputs": [
    {
     "name": "stdout",
     "output_type": "stream",
     "text": [
      "3\n",
      "Ход 1: Вверх 1\n",
      "Ход 2: Вниз 1\n",
      "Ход 3: Вверх 1\n",
      "Пётр находится на расстоянии 1 от (0, 0)\n"
     ]
    }
   ],
   "source": [
    "n  = int(input())\n",
    "x = 0\n",
    "y = 0\n",
    " \n",
    "for i in range(n):\n",
    "   a = input(f'Ход {i+1}: ').split(' ')\n",
    "   if a[0] == \"Вверх\":\n",
    "       y += int(a[1])\n",
    "   elif a[0] == \"Вниз\":\n",
    "       y -= int(a[1])\n",
    "   elif a[0] == \"Вправо\":\n",
    "       x += int(a[1])\n",
    "   elif a[0] == \"Влево\":\n",
    "       x -= int(a[1])\n",
    "print(f\"Пётр находится на расстоянии {abs(x)+abs(y)} от (0, 0)\")"
   ]
  },
  {
   "cell_type": "code",
   "execution_count": null,
   "id": "5fa08fd0",
   "metadata": {},
   "outputs": [],
   "source": []
  },
  {
   "cell_type": "markdown",
   "id": "818909ca",
   "metadata": {},
   "source": [
    "# 3. Sort the keys of the dictionary from a to z.  - 0.5 балла"
   ]
  },
  {
   "cell_type": "code",
   "execution_count": 11,
   "id": "b81d45f3",
   "metadata": {},
   "outputs": [
    {
     "name": "stdout",
     "output_type": "stream",
     "text": [
      "['cheesecake', 'chocolate', 'pudding', 'tiramisu']\n"
     ]
    }
   ],
   "source": [
    "d = {\n",
    "   \"tiramisu\":5,\n",
    "   \"chocolate\":2,\n",
    "   \"pudding\":3,\n",
    "   \"cheesecake\":4\n",
    "   }\n",
    " \n",
    "print(sorted(d.keys()))"
   ]
  },
  {
   "cell_type": "markdown",
   "id": "77275ebf",
   "metadata": {},
   "source": [
    "# 4. Compare three values, return true only if 2 or more values are equal - 0.5 балла"
   ]
  },
  {
   "cell_type": "code",
   "execution_count": 12,
   "id": "d0893272",
   "metadata": {},
   "outputs": [
    {
     "name": "stdout",
     "output_type": "stream",
     "text": [
      "1\n",
      "1\n",
      "2\n",
      "True\n"
     ]
    }
   ],
   "source": [
    "a = int(input())\n",
    "b = int(input())\n",
    "c = int(input())\n",
    " \n",
    "if (a == b) or (a == c) or (b == c) or (a == b == c):\n",
    "   print('True')\n",
    "else:\n",
    "   print(\"False\")"
   ]
  },
  {
   "cell_type": "markdown",
   "id": "895340c0",
   "metadata": {},
   "source": [
    "# 5. Given a list with pairs, sort on the sum of pairs - 0.5 балла"
   ]
  },
  {
   "cell_type": "code",
   "execution_count": 14,
   "id": "7a8971e2",
   "metadata": {},
   "outputs": [
    {
     "name": "stdout",
     "output_type": "stream",
     "text": [
      "[(5, 9), (8, 4), (4, 7), (3, 6), (3, 1)]\n"
     ]
    }
   ],
   "source": [
    "x = [(3,6),(4,7),(5,9),(8,4),(3,1)]\n",
    " \n",
    "for i in range(len(x) - 1):\n",
    "   for j in range(len(x) - 1 - i):\n",
    "       if sum(x[j]) < sum(x[j + 1]):\n",
    "           x[j], x[j + 1] = x[j + 1], x[j]\n",
    "          \n",
    "print(x)"
   ]
  },
  {
   "cell_type": "markdown",
   "id": "be5b7018",
   "metadata": {},
   "source": [
    "# 6. Create a function that takes a list of numbers. Return the largest number in the list. - 0.5 балла"
   ]
  },
  {
   "cell_type": "code",
   "execution_count": 17,
   "id": "2ddbc7bf",
   "metadata": {},
   "outputs": [
    {
     "name": "stdout",
     "output_type": "stream",
     "text": [
      "4\n",
      "5\n",
      "1\n",
      "3\n",
      "4\n",
      "5\n"
     ]
    }
   ],
   "source": [
    "A = []\n",
    " \n",
    "def findLargestNum(x):\n",
    "   maxx = -10000\n",
    "   for i in x:\n",
    "       if int(i) > maxx:\n",
    "           maxx = int(i)\n",
    "   return maxx\n",
    " \n",
    " \n",
    "x = int(input())\n",
    "A = []\n",
    "for i in range(x):\n",
    "   A.append(input())\n",
    " \n",
    "print(findLargestNum(A))"
   ]
  },
  {
   "cell_type": "markdown",
   "id": "17918763",
   "metadata": {},
   "source": [
    "# 7. Create a function that takes a string and returns the concatenated first and last character. - 0.5 балла"
   ]
  },
  {
   "cell_type": "code",
   "execution_count": 18,
   "id": "7062bfdb",
   "metadata": {},
   "outputs": [
    {
     "name": "stdout",
     "output_type": "stream",
     "text": [
      "ab\n",
      "3\n",
      "ababab\n"
     ]
    }
   ],
   "source": [
    "a = input()\n",
    "b = int(input())\n",
    " \n",
    "def repetition(x, y):\n",
    "   s = x*y\n",
    "   return s\n",
    " \n",
    "print(repetition(a,b))"
   ]
  },
  {
   "cell_type": "markdown",
   "id": "5c2fe48a",
   "metadata": {},
   "source": [
    "# 8. Create a function that takes a 2D list lst returns the sum of the minimum value in each row. - 0.5 балла"
   ]
  },
  {
   "cell_type": "code",
   "execution_count": 19,
   "id": "c3232abb",
   "metadata": {},
   "outputs": [
    {
     "name": "stdout",
     "output_type": "stream",
     "text": [
      "26\n"
     ]
    }
   ],
   "source": [
    "k = 0\n",
    "A = [\n",
    " [1, 2, 3, 4, 5],\n",
    " [5, 6, 7, 8, 9],\n",
    " [20, 21, 34, 56, 100]\n",
    "]\n",
    " \n",
    "for i in range(len(A)):\n",
    "   minn = 1000000000\n",
    "   for j in range(len(A[i])):\n",
    "       if A[i][j] < minn:\n",
    "           minn = A[i][j]\n",
    "   k += minn\n",
    "print(k)"
   ]
  },
  {
   "cell_type": "markdown",
   "id": "88c6709f",
   "metadata": {},
   "source": [
    "# 9. Create a function to return the amount of potatoes there are in a string. - 0.5 балла"
   ]
  },
  {
   "cell_type": "code",
   "execution_count": 20,
   "id": "e2610cbd",
   "metadata": {},
   "outputs": [
    {
     "name": "stdout",
     "output_type": "stream",
     "text": [
      "potatopotato\n",
      "2\n"
     ]
    }
   ],
   "source": [
    "s = 'potato'\n",
    "s1 = input()\n",
    " \n",
    " \n",
    "def potatoes(x):\n",
    "   return x.count(s)\n",
    " \n",
    " \n",
    "print(potatoes(s1))"
   ]
  },
  {
   "cell_type": "markdown",
   "id": "7fb5aa44",
   "metadata": {},
   "source": [
    "# 10. Create a function that takes a list of integers as an argument and returns a unique number from that list. All numbers except unique ones have the same number of occurrences in the list. - 0.5 балла"
   ]
  },
  {
   "cell_type": "code",
   "execution_count": 39,
   "id": "a43f80e0",
   "metadata": {},
   "outputs": [
    {
     "name": "stdout",
     "output_type": "stream",
     "text": [
      "3\n",
      "1\n",
      "4\n",
      "4\n",
      "1\n"
     ]
    }
   ],
   "source": [
    "x = int(input())\n",
    "A = []\n",
    "for i in range(x):\n",
    "   A.append(input())\n",
    " \n",
    " \n",
    "def find_single_number(x):\n",
    "   for i in x:\n",
    "       if x.count(i) == 1:\n",
    "           return i\n",
    "           break\n",
    " \n",
    "print(find_single_number(A))"
   ]
  },
  {
   "cell_type": "markdown",
   "id": "0313ea52",
   "metadata": {},
   "source": [
    "# 11. Given a letter and a list of words, return whether the letter does not appear in any of the words. - 0.5 балла"
   ]
  },
  {
   "cell_type": "code",
   "execution_count": 24,
   "id": "0cb649a5",
   "metadata": {},
   "outputs": [
    {
     "name": "stdout",
     "output_type": "stream",
     "text": [
      "3\n",
      "rock\n",
      "paper\n",
      "scissors\n",
      "True\n"
     ]
    }
   ],
   "source": [
    "n = int(input())\n",
    "A = []\n",
    "for i in range(n):\n",
    "   A.append([el for el in input().split(',')])\n",
    " \n",
    "def forbidden_letter(x):\n",
    "   k = 0\n",
    "   b = ''\n",
    "   for i in x[0]:\n",
    "       b = i\n",
    "   for i in x[1]:\n",
    "       if b in str(i):\n",
    "           k = 1\n",
    "           return False\n",
    "           break\n",
    "   if k == 0:\n",
    "       return True\n",
    " \n",
    "print(forbidden_letter(A))"
   ]
  },
  {
   "cell_type": "markdown",
   "id": "0a7ef5b5",
   "metadata": {},
   "source": [
    "# 12.  Define a function which create a Pattern like this one.  - 2 балла"
   ]
  },
  {
   "cell_type": "code",
   "execution_count": null,
   "id": "7617ebb7",
   "metadata": {},
   "outputs": [],
   "source": [
    "4"
   ]
  },
  {
   "cell_type": "code",
   "execution_count": 33,
   "id": "5d3b0cdd",
   "metadata": {},
   "outputs": [
    {
     "name": "stdout",
     "output_type": "stream",
     "text": [
      "4\n",
      "01234\n",
      "||     0\n",
      "-----    1\n",
      "||     2\n",
      "-----    3\n",
      "||     4\n",
      "\n"
     ]
    }
   ],
   "source": [
    "s = int(input())\n",
    "f = ''\n",
    "for i in range(s+1):\n",
    "   f += str(i)\n",
    "def pattern(x):\n",
    "   f1 = ''\n",
    "   for i in range(len(f)):\n",
    "       if i % 2 == 0:\n",
    "           f1 += '||     ' + f[i] + '\\n'\n",
    "       else:\n",
    "           f1 += '-----    ' + f[i] + '\\n'\n",
    "   return f1\n",
    " \n",
    "print(f + \"\\n\" + pattern(s))"
   ]
  },
  {
   "cell_type": "markdown",
   "id": "0d5edcd1",
   "metadata": {},
   "source": [
    "# 13. Create a function that takes three numbers as arguments and returns True if it's a triangle and False if not.  - 0.5 балла"
   ]
  },
  {
   "cell_type": "code",
   "execution_count": 31,
   "id": "d867302c",
   "metadata": {},
   "outputs": [
    {
     "name": "stdout",
     "output_type": "stream",
     "text": [
      "2, 3, 4\n",
      "True\n"
     ]
    }
   ],
   "source": [
    "A = input().split(', ')\n",
    " \n",
    "def is_triangle(x):\n",
    "   a = int(x[0])\n",
    "   b = int(x[1])\n",
    "   c = int(x[2])\n",
    "   if a + b > c:\n",
    "       if a + c > b:\n",
    "           if c + b > a:\n",
    "               return True\n",
    "           else:\n",
    "               return False\n",
    "       else:\n",
    "           return False\n",
    "   else:\n",
    "       return False\n",
    " \n",
    "print(is_triangle(A))"
   ]
  },
  {
   "cell_type": "markdown",
   "id": "2bdfb66e",
   "metadata": {},
   "source": [
    "# 14. Create a \"Code\" Generator that takes text as input and replaces some letter with another letter, and outputs the \"encoded\" message. Create funcs to encode and decode messages"
   ]
  },
  {
   "cell_type": "code",
   "execution_count": 32,
   "id": "0caf2b35",
   "metadata": {},
   "outputs": [
    {
     "name": "stdout",
     "output_type": "stream",
     "text": [
      "hello\n",
      "khoor hello\n"
     ]
    }
   ],
   "source": [
    "A = {\n",
    "   'a': 'd',\n",
    "   'b': 'e',\n",
    "   'c': 'f',\n",
    "   'd': 'g',\n",
    "   'e': 'h',\n",
    "   'f': 'i',\n",
    "   'g': 'j',\n",
    "   'h': 'k',\n",
    "   'i': 'l',\n",
    "   'j': 'm',\n",
    "   'k': 'n',\n",
    "   'l': 'o',\n",
    "   'm': 'p',\n",
    "   'n': 'q',\n",
    "   'o': 'r',\n",
    "   'p': 's',\n",
    "   'q': 't',\n",
    "   'r': 'u',\n",
    "   's': 'v',\n",
    "   't': 'w',\n",
    "   'u': 'x',\n",
    "   'v': 'y',\n",
    "   'w': 'z',\n",
    "   'x': 'a',\n",
    "   'y': 'b',\n",
    "   'z': 'c',\n",
    "}\n",
    " \n",
    "B = {\n",
    "   'd': 'a',\n",
    "   'e': 'b',\n",
    "   'f': 'c',\n",
    "   'g': 'd',\n",
    "   'h': 'e',\n",
    "   'i': 'f',\n",
    "   'j': 'g',\n",
    "   'k': 'h',\n",
    "   'l': 'i',\n",
    "   'm': 'j',\n",
    "   'n': 'k',\n",
    "   'o': 'l',\n",
    "   'p': 'm',\n",
    "   'q': 'n',\n",
    "   'r': 'o',\n",
    "   's': 'p',\n",
    "   't': 'q',\n",
    "   'u': 'r',\n",
    "   'v': 's',\n",
    "   'w': 't',\n",
    "   'x': 'u',\n",
    "   'y': 'v',\n",
    "   'z': 'w',\n",
    "   'a': 'x',\n",
    "   'b': 'y',\n",
    "   'c': 'z',\n",
    "}\n",
    " \n",
    "s = input()\n",
    " \n",
    "def encode(x):\n",
    "   s1 = ''\n",
    "   for i in x:\n",
    "       first = A[i]\n",
    "       s1 += first\n",
    "   return s1\n",
    "s1 = encode(s)\n",
    "def decode(x):\n",
    "   s1 = ''\n",
    "   for i in x:\n",
    "       first = B[i]\n",
    "       s1 += first\n",
    "   return s1\n",
    "print(encode(s), decode(s1))"
   ]
  },
  {
   "cell_type": "code",
   "execution_count": null,
   "id": "531ca960",
   "metadata": {},
   "outputs": [],
   "source": []
  }
 ],
 "metadata": {
  "kernelspec": {
   "display_name": "Python 3 (ipykernel)",
   "language": "python",
   "name": "python3"
  },
  "language_info": {
   "codemirror_mode": {
    "name": "ipython",
    "version": 3
   },
   "file_extension": ".py",
   "mimetype": "text/x-python",
   "name": "python",
   "nbconvert_exporter": "python",
   "pygments_lexer": "ipython3",
   "version": "3.9.13"
  }
 },
 "nbformat": 4,
 "nbformat_minor": 5
}
